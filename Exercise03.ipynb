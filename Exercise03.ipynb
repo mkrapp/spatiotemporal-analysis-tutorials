{
 "cells": [
  {
   "cell_type": "markdown",
   "id": "62e4a226",
   "metadata": {},
   "source": [
    "## Interactive session\n",
    "\n",
    "We are about to transform two (random but correlated) time series into two time series which are uncorrelated (their principal components). Remember: ***Our goal is to find the largest mode of variablity.***"
   ]
  },
  {
   "cell_type": "code",
   "execution_count": null,
   "id": "bca1f159",
   "metadata": {},
   "outputs": [],
   "source": [
    "# the usual imports \n",
    "%matplotlib inline\n",
    "import numpy as np\n",
    "import matplotlib.pyplot as plt\n",
    "\n",
    "plt.rcParams['figure.figsize'] = (9, 5)\n",
    "plt.rcParams['font.size'] = 20"
   ]
  },
  {
   "cell_type": "code",
   "execution_count": null,
   "id": "c86cc782",
   "metadata": {},
   "outputs": [],
   "source": [
    "rng = np.random.default_rng(1234) # random number generator instance\n",
    "\n",
    "nt = 300 # length of time series\n",
    "t = np.arange(300)\n",
    "\n",
    "# generate 2 random time series\n",
    "cov = [[4,3],[3,5]] # change the numbers and see what happens to the time series\n",
    "Y = rng.multivariate_normal(mean=[0,0],cov=cov,size=(nt))\n",
    "y1 = Y[:,0]\n",
    "y2 = Y[:,1]\n",
    "\n",
    "plt.figure(figsize=(10,2))\n",
    "plt.plot(t,y1)\n",
    "plt.plot(t,y2);"
   ]
  },
  {
   "cell_type": "code",
   "execution_count": null,
   "id": "4d4b2cbd",
   "metadata": {},
   "outputs": [],
   "source": [
    "# define method to create a phase plot of two timeseries\n",
    "def plot_xy(x,y,ax,\n",
    "            xlab=None,ylab=None,title=None,\n",
    "            off=False,grid=False,color='k'):\n",
    "    ax.plot(x,y,ls='',marker='o',mew=0,color=color)\n",
    "    ax.set_aspect(\"equal\")\n",
    "    ax.set_xlabel(xlab); ax.set_ylabel(ylab)\n",
    "    ax.set_title(title)\n",
    "    if off: ax.set_axis_off()\n",
    "    if grid: ax.grid()\n",
    "\n",
    "fig,ax = plt.subplots(1,1,figsize=(5,5))\n",
    "\n",
    "# make a phase plot of the two timeseries\n",
    "plot_xy(y1,y2,ax,xlab=\"y1\",ylab=\"y2\",grid=True)\n",
    "# print correlation coefficients\n",
    "print(np.corrcoef(y1,y2))"
   ]
  },
  {
   "cell_type": "markdown",
   "id": "2c6d6c1f",
   "metadata": {},
   "source": [
    "**Q-1: What can you tell about the two time series?**"
   ]
  },
  {
   "cell_type": "markdown",
   "id": "0ce78ad9",
   "metadata": {},
   "source": [
    "*[Double-click to write down your answer]*"
   ]
  },
  {
   "cell_type": "markdown",
   "id": "dd57e738",
   "metadata": {},
   "source": [
    "We are applying a *singular value* decomposition to the matrix $X$, which we make from the two time series (as column vectors).\n",
    "\n",
    "$$\n",
    "X = \\begin{bmatrix}\n",
    "    y1(1)   & y2(1)  \\\\\n",
    "    y1(2)   & y2(2)  \\\\\n",
    "     \\vdots  & \\vdots  \\\\\n",
    "    y1(300) & y2(300)\n",
    "\\end{bmatrix}\n",
    "$$"
   ]
  },
  {
   "cell_type": "code",
   "execution_count": null,
   "id": "2e63addf",
   "metadata": {},
   "outputs": [],
   "source": [
    "# put time series into a single matrix (nt * nx)\n",
    "X = np.stack((y1,y2),axis=1)\n",
    "print(X.shape)\n",
    "# Singular Value Decomposition\n",
    "u, s, vh = np.linalg.svd(X, full_matrices=False)\n",
    "print(u.shape, s.shape, vh.shape)\n",
    "print(\"Eigenvalues from SVD:\\n\", s)\n",
    "print(\"Eigenvectors from SVD:\\n\", vh.T)\n",
    "pc = u@np.diag(s)"
   ]
  },
  {
   "cell_type": "markdown",
   "id": "c7ccbcd2",
   "metadata": {},
   "source": [
    "**Q-2: How can we interpret the eigenvalues?**"
   ]
  },
  {
   "cell_type": "markdown",
   "id": "a3f9e7c4",
   "metadata": {},
   "source": [
    "*[Double-click to write down your answer]*"
   ]
  },
  {
   "cell_type": "code",
   "execution_count": null,
   "id": "12d693d2",
   "metadata": {},
   "outputs": [],
   "source": [
    "C = np.cov(X.T)\n",
    "print(C)\n",
    "w,s = np.linalg.eig(C)\n",
    "print(w,s)"
   ]
  },
  {
   "cell_type": "code",
   "execution_count": null,
   "id": "6286cfdb",
   "metadata": {},
   "outputs": [],
   "source": [
    "fig,ax = plt.subplots(1,2,sharex=True,sharey=True)\n",
    "kwargs = {\"lw\": 4, \"head_width\": 0.2, \"head_length\":0.2, \"color\": \"C1\", \"zorder\": 4}\n",
    "# phase plot of data set\n",
    "plot_xy(y1,y2,ax[0],title=\"original data\",xlab=\"y1\",ylab=\"y2\")\n",
    "# eigenvectors\n",
    "ax[0].arrow(y1.mean(),y2.mean(),vh[0,0]*s[0]**0.5,vh[0,1]*s[0]**0.5,**kwargs)\n",
    "ax[0].arrow(y1.mean(),y2.mean(),vh[1,0]*s[1]**0.5,vh[1,1]*s[1]**0.5,**kwargs)\n",
    "\n",
    "# phase plot rotated according to principal axes\n",
    "plot_xy(pc[:,0],pc[:,1],ax[1],title=\"transformed data\",xlab=\"PC1\",ylab=\"PC2\")\n",
    "# rotated unit vectors\n",
    "ax[1].arrow(pc[:,0].mean(),pc[:,1].mean(),0,s[1]**0.5,**kwargs)\n",
    "ax[1].arrow(pc[:,0].mean(),pc[:,1].mean(),s[0]**0.5,0,**kwargs);"
   ]
  },
  {
   "cell_type": "code",
   "execution_count": null,
   "id": "3313691b",
   "metadata": {},
   "outputs": [],
   "source": [
    "fig, ax = plt.subplots(2,1,sharex=True,sharey=True,figsize=(12,4))\n",
    "\n",
    "ax[0].plot(t,y1,label='y1')\n",
    "ax[0].plot(t,y2,label='y2')\n",
    "ax[0].legend(ncol=2,loc=4)\n",
    "ax[1].plot(t, pc)\n",
    "ax[1].legend([\"PC %d\"%(i+1) for i in range(len(pc))],ncol=2,loc=4);"
   ]
  },
  {
   "cell_type": "markdown",
   "id": "d772b411",
   "metadata": {},
   "source": [
    "**Q-3: Use the above examples to generate and then decompose 3 or more time series into their principle components.**"
   ]
  },
  {
   "cell_type": "code",
   "execution_count": null,
   "id": "60294a2b",
   "metadata": {},
   "outputs": [],
   "source": [
    "# add your code below"
   ]
  }
 ],
 "metadata": {
  "kernelspec": {
   "display_name": "winterschool",
   "language": "python",
   "name": "winterschool"
  },
  "language_info": {
   "codemirror_mode": {
    "name": "ipython",
    "version": 3
   },
   "file_extension": ".py",
   "mimetype": "text/x-python",
   "name": "python",
   "nbconvert_exporter": "python",
   "pygments_lexer": "ipython3",
   "version": "3.10.5"
  }
 },
 "nbformat": 4,
 "nbformat_minor": 5
}
