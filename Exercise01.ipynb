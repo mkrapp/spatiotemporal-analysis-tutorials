{
 "cells": [
  {
   "cell_type": "code",
   "execution_count": null,
   "id": "2315f45d",
   "metadata": {},
   "outputs": [],
   "source": [
    "%matplotlib inline\n",
    "import numpy as np\n",
    "import matplotlib.pyplot as plt\n",
    "import cartopy.io.shapereader as shpreader"
   ]
  },
  {
   "cell_type": "code",
   "execution_count": null,
   "id": "65c321a1",
   "metadata": {},
   "outputs": [],
   "source": [
    "# EXAMPLE 1\n",
    "reader = shpreader.Reader(\"data/lds-nz-coastlines-topo-1500k-SHP/nz-coastlines-topo-1500k.shp\")\n",
    "\n",
    "fig, ax = plt.subplots(1,1,figsize=(6,6))\n",
    "ax.set_axis_off()\n",
    "ax.set_aspect(\"equal\")\n",
    "\n",
    "A0 = np.array([[1,0],[0,1]])   # identity (KEEP ME FOR REFERENCE)\n",
    "A1 = np.array([[1,0],[0,1]])   # CHANGE THIS MATRIX!!! \n",
    "\n",
    "ax.plot(0,0,'r+',markersize=20)\n",
    "for c in reader.records():\n",
    "    x, y = np.array(c.geometry.xy)\n",
    "    x -= 1590978.2713233929; y -= 5485571.138889672 # center data on (0,0)\n",
    "    for i,A in enumerate([A0,A1]):\n",
    "        X = A@np.array([x,y]) # apply transformation\n",
    "        color = 'k' if i == 0 else 'r'\n",
    "        ax.plot(X[0,:],X[1,:],lw=2,color=color)"
   ]
  },
  {
   "cell_type": "code",
   "execution_count": null,
   "id": "bd2e1016",
   "metadata": {},
   "outputs": [],
   "source": []
  }
 ],
 "metadata": {
  "kernelspec": {
   "display_name": "winterschool",
   "language": "python",
   "name": "winterschool"
  },
  "language_info": {
   "codemirror_mode": {
    "name": "ipython",
    "version": 3
   },
   "file_extension": ".py",
   "mimetype": "text/x-python",
   "name": "python",
   "nbconvert_exporter": "python",
   "pygments_lexer": "ipython3",
   "version": "3.10.5"
  }
 },
 "nbformat": 4,
 "nbformat_minor": 5
}
