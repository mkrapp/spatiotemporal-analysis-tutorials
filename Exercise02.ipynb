{
 "cells": [
  {
   "cell_type": "code",
   "execution_count": null,
   "id": "33e58273",
   "metadata": {
    "scrolled": true,
    "slideshow": {
     "slide_type": "-"
    }
   },
   "outputs": [],
   "source": [
    "%matplotlib inline\n",
    "import numpy as np\n",
    "import matplotlib.pyplot as plt"
   ]
  },
  {
   "cell_type": "markdown",
   "id": "ef67876f",
   "metadata": {},
   "source": [
    "### Q - Who or what is hiding in those three files?\n",
    "- `data/u.dat`\n",
    "- `data/s.dat`\n",
    "- `data/vh.dat`\n",
    "\n",
    "You can read text files using [`np.loadtxt()`](https://numpy.org/doc/stable/reference/generated/numpy.loadtxt.html).\n",
    "\n",
    "1. load u, s, and vh\n",
    "2. inspect and plot u, s, and vh\n",
    "3. reconstruct image"
   ]
  },
  {
   "cell_type": "code",
   "execution_count": null,
   "id": "0af5d96c",
   "metadata": {
    "scrolled": false,
    "slideshow": {
     "slide_type": "-"
    }
   },
   "outputs": [],
   "source": [
    "# add your code below so you can inspect u, s, and vh\n",
    "# check Example 2 for more details.\n",
    "\n",
    "# 1. load u, s, and vh\n",
    "\n",
    "# 2. inspect and plot u, s, and vh\n",
    "\n",
    "# 3. reconstruct image"
   ]
  }
 ],
 "metadata": {
  "authors": [
   {
    "name": "Mario Krapp"
   }
  ],
  "celltoolbar": "Slideshow",
  "date": "",
  "kernelspec": {
   "display_name": "winterschool",
   "language": "python",
   "name": "winterschool"
  },
  "language_info": {
   "codemirror_mode": {
    "name": "ipython",
    "version": 3
   },
   "file_extension": ".py",
   "mimetype": "text/x-python",
   "name": "python",
   "nbconvert_exporter": "python",
   "pygments_lexer": "ipython3",
   "version": "3.10.5"
  },
  "rise": {
   "enable_chalkboard": true,
   "scroll": true
  },
  "title": "Analysis of Spatio-Temporal Datasets"
 },
 "nbformat": 4,
 "nbformat_minor": 5
}
